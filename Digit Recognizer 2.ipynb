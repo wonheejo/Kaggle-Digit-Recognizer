{
 "cells": [
  {
   "cell_type": "code",
   "execution_count": 1,
   "metadata": {},
   "outputs": [
    {
     "name": "stderr",
     "output_type": "stream",
     "text": [
      "Using TensorFlow backend.\n"
     ]
    }
   ],
   "source": [
    "import numpy as np\n",
    "import pandas as pd\n",
    "import seaborn as sns\n",
    "import matplotlib.pyplot as plt\n",
    "%matplotlib inline\n",
    "sns.set()\n",
    "from tensorflow.python.client import device_lib\n",
    "import tensorflow as tf\n",
    "from tensorflow import keras\n",
    "from keras.models import Sequential\n",
    "from keras.layers import Dense, Dropout, Flatten, Lambda, Convolution2D, MaxPool2D\n",
    "from keras.utils.np_utils import to_categorical\n",
    "from keras.layers.normalization import BatchNormalization\n",
    "from keras.optimizers import Adam, RMSprop\n",
    "from keras.preprocessing.image import ImageDataGenerator\n",
    "from keras.callbacks import EarlyStopping, LearningRateScheduler, ReduceLROnPlateau, ModelCheckpoint\n",
    "from keras import backend as K\n",
    "\n",
    "from sklearn.model_selection import train_test_split"
   ]
  },
  {
   "cell_type": "code",
   "execution_count": 2,
   "metadata": {},
   "outputs": [],
   "source": [
    "import os\n",
    "os.environ[\"CUDA_DEVICE_ORDER\"]=\"PCI_BUS_ID\" # see issue #152\n",
    "os.environ[\"CUDA_VISIBLE_DEVICES\"]=\"0\" # Will use only the first GPU device"
   ]
  },
  {
   "cell_type": "code",
   "execution_count": 3,
   "metadata": {},
   "outputs": [
    {
     "data": {
      "text/plain": [
       "'2.1.0'"
      ]
     },
     "execution_count": 3,
     "metadata": {},
     "output_type": "execute_result"
    }
   ],
   "source": [
    "tf.__version__"
   ]
  },
  {
   "cell_type": "code",
   "execution_count": 4,
   "metadata": {},
   "outputs": [
    {
     "data": {
      "text/plain": [
       "'2.2.4-tf'"
      ]
     },
     "execution_count": 4,
     "metadata": {},
     "output_type": "execute_result"
    }
   ],
   "source": [
    "keras.__version__"
   ]
  },
  {
   "cell_type": "code",
   "execution_count": 5,
   "metadata": {},
   "outputs": [],
   "source": [
    "train = pd.read_csv('train.csv')\n",
    "test = pd.read_csv('test.csv')"
   ]
  },
  {
   "cell_type": "code",
   "execution_count": 6,
   "metadata": {},
   "outputs": [
    {
     "data": {
      "text/plain": [
       "(42000, 785)"
      ]
     },
     "execution_count": 6,
     "metadata": {},
     "output_type": "execute_result"
    }
   ],
   "source": [
    "train.shape"
   ]
  },
  {
   "cell_type": "code",
   "execution_count": 7,
   "metadata": {},
   "outputs": [
    {
     "data": {
      "text/plain": [
       "(28000, 784)"
      ]
     },
     "execution_count": 7,
     "metadata": {},
     "output_type": "execute_result"
    }
   ],
   "source": [
    "test.shape"
   ]
  },
  {
   "cell_type": "code",
   "execution_count": 8,
   "metadata": {},
   "outputs": [],
   "source": [
    "y_train = train['label']\n",
    "x_train = train.drop(labels=['label'], axis=1)\n",
    "x_train = x_train / 255.0\n",
    "x_test = test / 255.0\n",
    "x_train = x_train.values.reshape(-1, 28, 28, 1)\n",
    "x_test = x_test.values.reshape(-1, 28, 28, 1)\n",
    "y_train = to_categorical(y_train, num_classes = 10)"
   ]
  },
  {
   "cell_type": "code",
   "execution_count": 9,
   "metadata": {},
   "outputs": [
    {
     "data": {
      "text/plain": [
       "(42000, 28, 28, 1)"
      ]
     },
     "execution_count": 9,
     "metadata": {},
     "output_type": "execute_result"
    }
   ],
   "source": [
    "x_train.shape"
   ]
  },
  {
   "cell_type": "code",
   "execution_count": 10,
   "metadata": {},
   "outputs": [
    {
     "data": {
      "text/plain": [
       "(28000, 28, 28, 1)"
      ]
     },
     "execution_count": 10,
     "metadata": {},
     "output_type": "execute_result"
    }
   ],
   "source": [
    "x_test.shape"
   ]
  },
  {
   "cell_type": "code",
   "execution_count": 11,
   "metadata": {},
   "outputs": [
    {
     "name": "stderr",
     "output_type": "stream",
     "text": [
      "c:\\users\\wonhee\\anaconda3\\envs\\tensorgpu211\\lib\\site-packages\\matplotlib\\text.py:1150: FutureWarning: elementwise comparison failed; returning scalar instead, but in the future will perform elementwise comparison\n",
      "  if s != self._text:\n"
     ]
    },
    {
     "data": {
      "image/png": "[encoded data removed]",
      "text/plain": [
       "<Figure size 432x288 with 1 Axes>"
      ]
     },
     "metadata": {},
     "output_type": "display_data"
    }
   ],
   "source": [
    "plt.title(y_train[200])\n",
    "plt.plot(y_train[200])\n",
    "plt.xticks(range(10));\n",
    "plt.show()"
   ]
  },
  {
   "cell_type": "code",
   "execution_count": 12,
   "metadata": {},
   "outputs": [],
   "source": [
    "X = x_train\n",
    "y = y_train\n",
    "X_train2, X_val2, y_train2, y_val2 = train_test_split(x_train, y_train, test_size=0.10, random_state = 42)"
   ]
  },
  {
   "cell_type": "code",
   "execution_count": 13,
   "metadata": {},
   "outputs": [],
   "source": [
    "with tf.device(\"/device:GPU:0\"):\n",
    "    def cnn_model():\n",
    "        model = Sequential([\n",
    "            Convolution2D(filters=32, kernel_size=(3, 3), activation='relu', input_shape=(28, 28, 1)),\n",
    "            BatchNormalization(),\n",
    "            Convolution2D(filters=32, kernel_size=(3, 3), activation='relu'),\n",
    "            BatchNormalization(),\n",
    "            Convolution2D(filters=32, kernel_size=(5, 5), strides=2, padding='same', activation='relu'),\n",
    "            BatchNormalization(),\n",
    "            Dropout(0.4),\n",
    "            \n",
    "            Convolution2D(filters=64, kernel_size=(3, 3), activation='relu'),\n",
    "            BatchNormalization(),\n",
    "            Convolution2D(filters=64, kernel_size=(3, 3), activation='relu'),\n",
    "            BatchNormalization(),\n",
    "            Convolution2D(filters=64, kernel_size=(5, 5), strides=2, padding='same', activation='relu'),\n",
    "            BatchNormalization(),\n",
    "            Dropout(0.4),\n",
    "            \n",
    "            Convolution2D(filters=128, kernel_size=(4, 4), padding='same', activation='relu'),\n",
    "            BatchNormalization(),\n",
    "            Flatten(),\n",
    "            Dense(256, activation='relu'),\n",
    "            Dropout(0.4),\n",
    "            Dense(10, activation='softmax')\n",
    "        ])\n",
    "\n",
    "        model.compile(optimizer=Adam(), loss='categorical_crossentropy', metrics=['accuracy'])\n",
    "\n",
    "        return model\n",
    "    "
   ]
  },
  {
   "cell_type": "code",
   "execution_count": 14,
   "metadata": {},
   "outputs": [
    {
     "name": "stdout",
     "output_type": "stream",
     "text": [
      "Model: \"sequential_1\"\n",
      "_________________________________________________________________\n",
      "Layer (type)                 Output Shape              Param #   \n",
      "=================================================================\n",
      "conv2d_1 (Conv2D)            (None, 26, 26, 32)        320       \n",
      "_________________________________________________________________\n",
      "batch_normalization_1 (Batch (None, 26, 26, 32)        128       \n",
      "_________________________________________________________________\n",
      "conv2d_2 (Conv2D)            (None, 24, 24, 32)        9248      \n",
      "_________________________________________________________________\n",
      "batch_normalization_2 (Batch (None, 24, 24, 32)        128       \n",
      "_________________________________________________________________\n",
      "conv2d_3 (Conv2D)            (None, 12, 12, 32)        25632     \n",
      "_________________________________________________________________\n",
      "batch_normalization_3 (Batch (None, 12, 12, 32)        128       \n",
      "_________________________________________________________________\n",
      "dropout_1 (Dropout)          (None, 12, 12, 32)        0         \n",
      "_________________________________________________________________\n",
      "conv2d_4 (Conv2D)            (None, 10, 10, 64)        18496     \n",
      "_________________________________________________________________\n",
      "batch_normalization_4 (Batch (None, 10, 10, 64)        256       \n",
      "_________________________________________________________________\n",
      "conv2d_5 (Conv2D)            (None, 8, 8, 64)          36928     \n",
      "_________________________________________________________________\n",
      "batch_normalization_5 (Batch (None, 8, 8, 64)          256       \n",
      "_________________________________________________________________\n",
      "conv2d_6 (Conv2D)            (None, 4, 4, 64)          102464    \n",
      "_________________________________________________________________\n",
      "batch_normalization_6 (Batch (None, 4, 4, 64)          256       \n",
      "_________________________________________________________________\n",
      "dropout_2 (Dropout)          (None, 4, 4, 64)          0         \n",
      "_________________________________________________________________\n",
      "conv2d_7 (Conv2D)            (None, 4, 4, 128)         131200    \n",
      "_________________________________________________________________\n",
      "batch_normalization_7 (Batch (None, 4, 4, 128)         512       \n",
      "_________________________________________________________________\n",
      "flatten_1 (Flatten)          (None, 2048)              0         \n",
      "_________________________________________________________________\n",
      "dense_1 (Dense)              (None, 256)               524544    \n",
      "_________________________________________________________________\n",
      "dropout_3 (Dropout)          (None, 256)               0         \n",
      "_________________________________________________________________\n",
      "dense_2 (Dense)              (None, 10)                2570      \n",
      "=================================================================\n",
      "Total params: 853,066\n",
      "Trainable params: 852,234\n",
      "Non-trainable params: 832\n",
      "_________________________________________________________________\n"
     ]
    }
   ],
   "source": [
    "cnn_model = cnn_model()\n",
    "cnn_model.summary()"
   ]
  },
  {
   "cell_type": "code",
   "execution_count": null,
   "metadata": {},
   "outputs": [],
   "source": [
    "def exponential_decay(epochs):\n",
    "    def exponential_decay_fn(lr, s):\n",
    "        return lr * 0.95**(epochs/20)\n",
    "    return exponential_decay_fn"
   ]
  },
  {
   "cell_type": "code",
   "execution_count": 17,
   "metadata": {},
   "outputs": [],
   "source": [
    "epochs=50\n",
    "learning_rate_reduction = LearningRateScheduler(lambda x: 1e-3 * 0.95 ** x)\n",
    "learning_rate_reduction2 = ReduceLROnPlateau(monitor='val_loss', factor=0.5, patience=3, min_lr=0.00001)\n",
    "checkpoint_cb = ModelCheckpoint('best_model_checkpoint.h5', save_best_only=True)\n",
    "early_stopping = EarlyStopping(patience=10, restore_best_weights=True)"
   ]
  },
  {
   "cell_type": "code",
   "execution_count": null,
   "metadata": {
    "scrolled": false
   },
   "outputs": [
    {
     "name": "stdout",
     "output_type": "stream",
     "text": [
      "Epoch 1/50\n",
      "295/295 [==============================] - 10s 33ms/step - loss: 0.5241 - accuracy: 0.8358 - val_loss: 7.6981 - val_accuracy: 0.1171\n",
      "Epoch 2/50\n",
      "295/295 [==============================] - 7s 25ms/step - loss: 0.1370 - accuracy: 0.9595 - val_loss: 0.1538 - val_accuracy: 0.9574\n",
      "Epoch 3/50\n",
      "295/295 [==============================] - 7s 25ms/step - loss: 0.1085 - accuracy: 0.9687 - val_loss: 0.0322 - val_accuracy: 0.9900\n",
      "Epoch 4/50\n",
      "295/295 [==============================] - 8s 26ms/step - loss: 0.0929 - accuracy: 0.9726 - val_loss: 0.0605 - val_accuracy: 0.9833\n",
      "Epoch 5/50\n",
      "295/295 [==============================] - 8s 26ms/step - loss: 0.0811 - accuracy: 0.9773 - val_loss: 0.0627 - val_accuracy: 0.9819A: 0s - loss: 0.0\n",
      "Epoch 6/50\n",
      "295/295 [==============================] - 8s 26ms/step - loss: 0.0740 - accuracy: 0.9786 - val_loss: 0.0327 - val_accuracy: 0.9886\n",
      "Epoch 7/50\n",
      "295/295 [==============================] - 8s 25ms/step - loss: 0.0531 - accuracy: 0.9845 - val_loss: 0.0199 - val_accuracy: 0.9926\n",
      "Epoch 8/50\n",
      "295/295 [==============================] - 8s 26ms/step - loss: 0.0466 - accuracy: 0.9865 - val_loss: 0.0230 - val_accuracy: 0.9936\n",
      "Epoch 9/50\n",
      "295/295 [==============================] - 7s 25ms/step - loss: 0.0462 - accuracy: 0.9870 - val_loss: 0.0277 - val_accuracy: 0.9919\n",
      "Epoch 10/50\n",
      "295/295 [==============================] - 8s 26ms/step - loss: 0.0452 - accuracy: 0.9868 - val_loss: 0.0186 - val_accuracy: 0.9943\n",
      "Epoch 11/50\n",
      "295/295 [==============================] - 8s 26ms/step - loss: 0.0415 - accuracy: 0.9884 - val_loss: 0.0207 - val_accuracy: 0.9940\n",
      "Epoch 12/50\n",
      "295/295 [==============================] - 8s 25ms/step - loss: 0.0447 - accuracy: 0.9869 - val_loss: 0.0223 - val_accuracy: 0.9926\n",
      "Epoch 13/50\n",
      "295/295 [==============================] - 7s 25ms/step - loss: 0.0380 - accuracy: 0.9887 - val_loss: 0.0251 - val_accuracy: 0.9931\n",
      "Epoch 14/50\n",
      "295/295 [==============================] - 7s 25ms/step - loss: 0.0291 - accuracy: 0.9911 - val_loss: 0.0198 - val_accuracy: 0.9933\n",
      "Epoch 15/50\n",
      "295/295 [==============================] - 7s 25ms/step - loss: 0.0295 - accuracy: 0.9912 - val_loss: 0.0175 - val_accuracy: 0.9952\n",
      "Epoch 16/50\n",
      "295/295 [==============================] - 7s 25ms/step - loss: 0.0308 - accuracy: 0.9909 - val_loss: 0.0236 - val_accuracy: 0.9929\n",
      "Epoch 17/50\n",
      "295/295 [==============================] - 8s 26ms/step - loss: 0.0286 - accuracy: 0.9915 - val_loss: 0.0246 - val_accuracy: 0.9940\n",
      "Epoch 18/50\n",
      "295/295 [==============================] - 7s 25ms/step - loss: 0.0273 - accuracy: 0.9917 - val_loss: 0.0204 - val_accuracy: 0.9936\n",
      "Epoch 19/50\n",
      "295/295 [==============================] - 8s 26ms/step - loss: 0.0242 - accuracy: 0.9929 - val_loss: 0.0163 - val_accuracy: 0.9948\n",
      "Epoch 20/50\n",
      "295/295 [==============================] - 8s 25ms/step - loss: 0.0219 - accuracy: 0.9931 - val_loss: 0.0148 - val_accuracy: 0.9957\n",
      "Epoch 21/50\n",
      "295/295 [==============================] - 7s 25ms/step - loss: 0.0212 - accuracy: 0.9934 - val_loss: 0.0164 - val_accuracy: 0.9950\n",
      "Epoch 22/50\n",
      "295/295 [==============================] - 7s 25ms/step - loss: 0.0183 - accuracy: 0.9943 - val_loss: 0.0147 - val_accuracy: 0.9943\n",
      "Epoch 23/50\n",
      "295/295 [==============================] - 7s 25ms/step - loss: 0.0225 - accuracy: 0.9933 - val_loss: 0.0157 - val_accuracy: 0.9952\n",
      "Epoch 24/50\n",
      "295/295 [==============================] - 7s 25ms/step - loss: 0.0205 - accuracy: 0.9937 - val_loss: 0.0166 - val_accuracy: 0.9948\n",
      "Epoch 25/50\n",
      "295/295 [==============================] - 8s 26ms/step - loss: 0.0202 - accuracy: 0.9941 - val_loss: 0.0176 - val_accuracy: 0.9938\n",
      "Epoch 26/50\n",
      "295/295 [==============================] - 8s 25ms/step - loss: 0.0173 - accuracy: 0.9950 - val_loss: 0.0137 - val_accuracy: 0.9957\n",
      "Epoch 27/50\n",
      "295/295 [==============================] - 7s 25ms/step - loss: 0.0171 - accuracy: 0.9945 - val_loss: 0.0150 - val_accuracy: 0.9943\n",
      "Epoch 28/50\n",
      "295/295 [==============================] - 7s 25ms/step - loss: 0.0173 - accuracy: 0.9952 - val_loss: 0.0153 - val_accuracy: 0.9943\n",
      "Epoch 29/50\n",
      "295/295 [==============================] - 7s 25ms/step - loss: 0.0159 - accuracy: 0.9951 - val_loss: 0.0136 - val_accuracy: 0.9952\n",
      "Epoch 30/50\n",
      "295/295 [==============================] - 7s 25ms/step - loss: 0.0158 - accuracy: 0.9949 - val_loss: 0.0149 - val_accuracy: 0.9955ura\n",
      "Epoch 31/50\n",
      "295/295 [==============================] - 7s 25ms/step - loss: 0.0162 - accuracy: 0.9953 - val_loss: 0.0125 - val_accuracy: 0.9962\n",
      "Epoch 32/50\n",
      "295/295 [==============================] - 8s 26ms/step - loss: 0.0172 - accuracy: 0.9946 - val_loss: 0.0136 - val_accuracy: 0.9948\n",
      "Epoch 33/50\n",
      "295/295 [==============================] - 8s 26ms/step - loss: 0.0153 - accuracy: 0.9950 - val_loss: 0.0119 - val_accuracy: 0.9957\n",
      "Epoch 34/50\n",
      "295/295 [==============================] - 8s 26ms/step - loss: 0.0150 - accuracy: 0.9952 - val_loss: 0.0133 - val_accuracy: 0.9960\n",
      "Epoch 35/50\n",
      "295/295 [==============================] - 8s 26ms/step - loss: 0.0150 - accuracy: 0.9955 - val_loss: 0.0156 - val_accuracy: 0.9955\n",
      "Epoch 36/50\n",
      "295/295 [==============================] - 8s 26ms/step - loss: 0.0158 - accuracy: 0.9949 - val_loss: 0.0146 - val_accuracy: 0.9950\n",
      "Epoch 37/50\n",
      "295/295 [==============================] - 8s 25ms/step - loss: 0.0135 - accuracy: 0.9957 - val_loss: 0.0150 - val_accuracy: 0.9955\n",
      "Epoch 38/50\n",
      "295/295 [==============================] - 8s 26ms/step - loss: 0.0148 - accuracy: 0.9956 - val_loss: 0.0143 - val_accuracy: 0.9952\n",
      "Epoch 39/50\n",
      "295/295 [==============================] - 7s 25ms/step - loss: 0.0138 - accuracy: 0.9956 - val_loss: 0.0135 - val_accuracy: 0.9955\n",
      "Epoch 40/50\n",
      "295/295 [==============================] - 8s 26ms/step - loss: 0.0134 - accuracy: 0.9960 - val_loss: 0.0132 - val_accuracy: 0.9957\n",
      "Epoch 41/50\n",
      "295/295 [==============================] - 8s 26ms/step - loss: 0.0137 - accuracy: 0.9961 - val_loss: 0.0130 - val_accuracy: 0.9955\n",
      "Epoch 42/50\n",
      " 90/295 [========>.....................] - ETA: 5s - loss: 0.0142 - accuracy: 0.9951"
     ]
    }
   ],
   "source": [
    "gen = ImageDataGenerator(rotation_range=10, width_shift_range=0.1, shear_range=0.3, height_shift_range=0.1, zoom_range=0.1)\n",
    "batch_size = 128\n",
    "batches = gen.flow(X_train2, y_train2, batch_size=batch_size)\n",
    "history=cnn_model.fit_generator(generator=batches, steps_per_epoch=X_train2.shape[0]//batch_size, validation_data = (X_val2, y_val2), epochs=epochs, callbacks=[checkpoint_cb, early_stopping, learning_rate_reduction2])"
   ]
  },
  {
   "cell_type": "code",
   "execution_count": null,
   "metadata": {},
   "outputs": [],
   "source": [
    "cnn_model.save('CNN 2x2 2x2 1x1 epoch30 batch86 lr.h5')"
   ]
  },
  {
   "cell_type": "code",
   "execution_count": null,
   "metadata": {},
   "outputs": [],
   "source": [
    "cnn_history = history.history\n",
    "pd.DataFrame(cnn_history).plot(figsize=(10, 9))\n",
    "plt.grid(True)\n",
    "plt.gca().set_ylim(0, 1)\n",
    "plt.show()"
   ]
  },
  {
   "cell_type": "code",
   "execution_count": null,
   "metadata": {},
   "outputs": [],
   "source": [
    "cnn_history.keys()"
   ]
  },
  {
   "cell_type": "code",
   "execution_count": null,
   "metadata": {},
   "outputs": [],
   "source": [
    "losses = cnn_history['loss']\n",
    "val_losses = cnn_history['val_loss']\n",
    "epochs = range(1, len(val_losses)+1)\n",
    "\n",
    "plt.plot(epochs, losses, 'bo')\n",
    "plt.plot(epochs, val_losses, 'b+')\n",
    "plt.xlabel('Epoches')\n",
    "plt.ylabel('Losses')"
   ]
  },
  {
   "cell_type": "code",
   "execution_count": null,
   "metadata": {},
   "outputs": [],
   "source": [
    "lr = cnn_history['lr']\n",
    "\n",
    "plt.plot(epochs, lr)\n",
    "plt.xlabel('Epochs')\n",
    "plt.ylabel('Learning rate')"
   ]
  },
  {
   "cell_type": "code",
   "execution_count": null,
   "metadata": {},
   "outputs": [],
   "source": [
    "accuracy = cnn_history['accuracy']\n",
    "val_accuracy = cnn_history['val_accuracy']\n",
    "epochs = range(1, len(val_losses)+1)\n",
    "\n",
    "plt.plot(epochs, accuracy, 'bo')\n",
    "plt.plot(epochs, val_accuracy, 'b+')\n",
    "plt.xlabel('Epoches')\n",
    "plt.ylabel('Accuracy')"
   ]
  },
  {
   "cell_type": "code",
   "execution_count": null,
   "metadata": {},
   "outputs": [],
   "source": [
    "finalmodels = cnn_model.predict(x_test)\n",
    "results = np.argmax(finalmodels, axis=1)\n",
    "results = pd.Series(results, name='label')"
   ]
  },
  {
   "cell_type": "code",
   "execution_count": null,
   "metadata": {},
   "outputs": [],
   "source": [
    "submissions = pd.concat([pd.Series(range(1, 28001), name='ImageId'), results], axis=1)\n",
    "submissions.to_csv(\"submissionCNN2222118630.csv\", index=False, header=True)"
   ]
  },
  {
   "cell_type": "code",
   "execution_count": null,
   "metadata": {},
   "outputs": [],
   "source": []
  }
 ],
 "metadata": {
  "kernelspec": {
   "display_name": "Python 3",
   "language": "python",
   "name": "python3"
  },
  "language_info": {
   "codemirror_mode": {
    "name": "ipython",
    "version": 3
   },
   "file_extension": ".py",
   "mimetype": "text/x-python",
   "name": "python",
   "nbconvert_exporter": "python",
   "pygments_lexer": "ipython3",
   "version": "3.6.7"
  }
 },
 "nbformat": 4,
 "nbformat_minor": 2
}
