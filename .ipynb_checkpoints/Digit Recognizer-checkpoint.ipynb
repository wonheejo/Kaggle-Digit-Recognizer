{
 "cells": [
  {
   "cell_type": "code",
   "execution_count": 1,
   "metadata": {},
   "outputs": [],
   "source": [
    "import numpy as np\n",
    "import pandas as pd\n",
    "import seaborn as sns\n",
    "import matplotlib.pyplot as plt\n",
    "%matplotlib inline\n",
    "sns.set()"
   ]
  },
  {
   "cell_type": "code",
   "execution_count": 2,
   "metadata": {},
<<<<<<< HEAD
   "outputs": [],
   "source": [
    "from tensorflow.python.client import device_lib"
   ]
  },
  {
   "cell_type": "code",
   "execution_count": 3,
   "metadata": {},
=======
>>>>>>> 7ef55fbcca6ed2cfe17b2983e07eb9fa3c4e49b5
   "outputs": [
    {
     "name": "stderr",
     "output_type": "stream",
     "text": [
      "Using TensorFlow backend.\n"
     ]
    }
   ],
   "source": [
    "import tensorflow as tf\n",
    "from tensorflow import keras\n",
    "from keras.models import Sequential\n",
<<<<<<< HEAD
    "from keras.layers import Dense, Dropout, Flatten, Lambda, BatchNormalization, Convolution2D, MaxPool2D\n",
=======
    "from keras.layers import Dense, Dropout, Flatten, Lambda, MaxPool2D, Convolution2D, BatchNormalization\n",
>>>>>>> 7ef55fbcca6ed2cfe17b2983e07eb9fa3c4e49b5
    "from keras.optimizers import Adam, RMSprop\n",
    "from keras.preprocessing.image import ImageDataGenerator\n",
    "from keras.callbacks import EarlyStopping, ReduceLROnPlateau\n",
    "from keras import backend as K\n",
    "\n",
    "from sklearn.model_selection import train_test_split"
   ]
  },
  {
   "cell_type": "code",
<<<<<<< HEAD
   "execution_count": 4,
=======
   "execution_count": 3,
>>>>>>> 7ef55fbcca6ed2cfe17b2983e07eb9fa3c4e49b5
   "metadata": {},
   "outputs": [
    {
     "data": {
      "text/plain": [
       "'2.1.0'"
      ]
     },
<<<<<<< HEAD
     "execution_count": 4,
=======
     "execution_count": 3,
>>>>>>> 7ef55fbcca6ed2cfe17b2983e07eb9fa3c4e49b5
     "metadata": {},
     "output_type": "execute_result"
    }
   ],
   "source": [
    "tf.__version__"
   ]
  },
  {
   "cell_type": "code",
<<<<<<< HEAD
   "execution_count": 5,
=======
   "execution_count": 4,
>>>>>>> 7ef55fbcca6ed2cfe17b2983e07eb9fa3c4e49b5
   "metadata": {},
   "outputs": [
    {
     "data": {
      "text/plain": [
       "'2.2.4-tf'"
      ]
     },
<<<<<<< HEAD
     "execution_count": 5,
=======
     "execution_count": 4,
>>>>>>> 7ef55fbcca6ed2cfe17b2983e07eb9fa3c4e49b5
     "metadata": {},
     "output_type": "execute_result"
    }
   ],
   "source": [
    "keras.__version__"
   ]
  },
  {
   "cell_type": "code",
<<<<<<< HEAD
   "execution_count": 6,
=======
   "execution_count": 5,
>>>>>>> 7ef55fbcca6ed2cfe17b2983e07eb9fa3c4e49b5
   "metadata": {},
   "outputs": [],
   "source": [
    "train = pd.read_csv('train.csv')\n",
    "test = pd.read_csv('test.csv')"
   ]
  },
  {
   "cell_type": "code",
<<<<<<< HEAD
   "execution_count": 7,
=======
   "execution_count": 6,
>>>>>>> 7ef55fbcca6ed2cfe17b2983e07eb9fa3c4e49b5
   "metadata": {},
   "outputs": [
    {
     "data": {
      "text/plain": [
       "(42000, 785)"
      ]
     },
<<<<<<< HEAD
     "execution_count": 7,
=======
     "execution_count": 6,
>>>>>>> 7ef55fbcca6ed2cfe17b2983e07eb9fa3c4e49b5
     "metadata": {},
     "output_type": "execute_result"
    }
   ],
   "source": [
    "train.shape"
   ]
  },
  {
   "cell_type": "code",
<<<<<<< HEAD
   "execution_count": 8,
=======
   "execution_count": 7,
>>>>>>> 7ef55fbcca6ed2cfe17b2983e07eb9fa3c4e49b5
   "metadata": {},
   "outputs": [
    {
     "data": {
      "text/html": [
       "<div>\n",
       "<style scoped>\n",
       "    .dataframe tbody tr th:only-of-type {\n",
       "        vertical-align: middle;\n",
       "    }\n",
       "\n",
       "    .dataframe tbody tr th {\n",
       "        vertical-align: top;\n",
       "    }\n",
       "\n",
       "    .dataframe thead th {\n",
       "        text-align: right;\n",
       "    }\n",
       "</style>\n",
       "<table border=\"1\" class=\"dataframe\">\n",
       "  <thead>\n",
       "    <tr style=\"text-align: right;\">\n",
       "      <th></th>\n",
       "      <th>label</th>\n",
       "      <th>pixel0</th>\n",
       "      <th>pixel1</th>\n",
       "      <th>pixel2</th>\n",
       "      <th>pixel3</th>\n",
       "      <th>pixel4</th>\n",
       "      <th>pixel5</th>\n",
       "      <th>pixel6</th>\n",
       "      <th>pixel7</th>\n",
       "      <th>pixel8</th>\n",
       "      <th>...</th>\n",
       "      <th>pixel774</th>\n",
       "      <th>pixel775</th>\n",
       "      <th>pixel776</th>\n",
       "      <th>pixel777</th>\n",
       "      <th>pixel778</th>\n",
       "      <th>pixel779</th>\n",
       "      <th>pixel780</th>\n",
       "      <th>pixel781</th>\n",
       "      <th>pixel782</th>\n",
       "      <th>pixel783</th>\n",
       "    </tr>\n",
       "  </thead>\n",
       "  <tbody>\n",
       "    <tr>\n",
       "      <th>0</th>\n",
       "      <td>1</td>\n",
       "      <td>0</td>\n",
       "      <td>0</td>\n",
       "      <td>0</td>\n",
       "      <td>0</td>\n",
       "      <td>0</td>\n",
       "      <td>0</td>\n",
       "      <td>0</td>\n",
       "      <td>0</td>\n",
       "      <td>0</td>\n",
       "      <td>...</td>\n",
       "      <td>0</td>\n",
       "      <td>0</td>\n",
       "      <td>0</td>\n",
       "      <td>0</td>\n",
       "      <td>0</td>\n",
       "      <td>0</td>\n",
       "      <td>0</td>\n",
       "      <td>0</td>\n",
       "      <td>0</td>\n",
       "      <td>0</td>\n",
       "    </tr>\n",
       "    <tr>\n",
       "      <th>1</th>\n",
       "      <td>0</td>\n",
       "      <td>0</td>\n",
       "      <td>0</td>\n",
       "      <td>0</td>\n",
       "      <td>0</td>\n",
       "      <td>0</td>\n",
       "      <td>0</td>\n",
       "      <td>0</td>\n",
       "      <td>0</td>\n",
       "      <td>0</td>\n",
       "      <td>...</td>\n",
       "      <td>0</td>\n",
       "      <td>0</td>\n",
       "      <td>0</td>\n",
       "      <td>0</td>\n",
       "      <td>0</td>\n",
       "      <td>0</td>\n",
       "      <td>0</td>\n",
       "      <td>0</td>\n",
       "      <td>0</td>\n",
       "      <td>0</td>\n",
       "    </tr>\n",
       "    <tr>\n",
       "      <th>2</th>\n",
       "      <td>1</td>\n",
       "      <td>0</td>\n",
       "      <td>0</td>\n",
       "      <td>0</td>\n",
       "      <td>0</td>\n",
       "      <td>0</td>\n",
       "      <td>0</td>\n",
       "      <td>0</td>\n",
       "      <td>0</td>\n",
       "      <td>0</td>\n",
       "      <td>...</td>\n",
       "      <td>0</td>\n",
       "      <td>0</td>\n",
       "      <td>0</td>\n",
       "      <td>0</td>\n",
       "      <td>0</td>\n",
       "      <td>0</td>\n",
       "      <td>0</td>\n",
       "      <td>0</td>\n",
       "      <td>0</td>\n",
       "      <td>0</td>\n",
       "    </tr>\n",
       "    <tr>\n",
       "      <th>3</th>\n",
       "      <td>4</td>\n",
       "      <td>0</td>\n",
       "      <td>0</td>\n",
       "      <td>0</td>\n",
       "      <td>0</td>\n",
       "      <td>0</td>\n",
       "      <td>0</td>\n",
       "      <td>0</td>\n",
       "      <td>0</td>\n",
       "      <td>0</td>\n",
       "      <td>...</td>\n",
       "      <td>0</td>\n",
       "      <td>0</td>\n",
       "      <td>0</td>\n",
       "      <td>0</td>\n",
       "      <td>0</td>\n",
       "      <td>0</td>\n",
       "      <td>0</td>\n",
       "      <td>0</td>\n",
       "      <td>0</td>\n",
       "      <td>0</td>\n",
       "    </tr>\n",
       "    <tr>\n",
       "      <th>4</th>\n",
       "      <td>0</td>\n",
       "      <td>0</td>\n",
       "      <td>0</td>\n",
       "      <td>0</td>\n",
       "      <td>0</td>\n",
       "      <td>0</td>\n",
       "      <td>0</td>\n",
       "      <td>0</td>\n",
       "      <td>0</td>\n",
       "      <td>0</td>\n",
       "      <td>...</td>\n",
       "      <td>0</td>\n",
       "      <td>0</td>\n",
       "      <td>0</td>\n",
       "      <td>0</td>\n",
       "      <td>0</td>\n",
       "      <td>0</td>\n",
       "      <td>0</td>\n",
       "      <td>0</td>\n",
       "      <td>0</td>\n",
       "      <td>0</td>\n",
       "    </tr>\n",
       "  </tbody>\n",
       "</table>\n",
       "<p>5 rows × 785 columns</p>\n",
       "</div>"
      ],
      "text/plain": [
       "   label  pixel0  pixel1  pixel2  pixel3  pixel4  pixel5  pixel6  pixel7  \\\n",
       "0      1       0       0       0       0       0       0       0       0   \n",
       "1      0       0       0       0       0       0       0       0       0   \n",
       "2      1       0       0       0       0       0       0       0       0   \n",
       "3      4       0       0       0       0       0       0       0       0   \n",
       "4      0       0       0       0       0       0       0       0       0   \n",
       "\n",
       "   pixel8  ...  pixel774  pixel775  pixel776  pixel777  pixel778  pixel779  \\\n",
       "0       0  ...         0         0         0         0         0         0   \n",
       "1       0  ...         0         0         0         0         0         0   \n",
       "2       0  ...         0         0         0         0         0         0   \n",
       "3       0  ...         0         0         0         0         0         0   \n",
       "4       0  ...         0         0         0         0         0         0   \n",
       "\n",
       "   pixel780  pixel781  pixel782  pixel783  \n",
       "0         0         0         0         0  \n",
       "1         0         0         0         0  \n",
       "2         0         0         0         0  \n",
       "3         0         0         0         0  \n",
       "4         0         0         0         0  \n",
       "\n",
       "[5 rows x 785 columns]"
      ]
     },
<<<<<<< HEAD
     "execution_count": 8,
=======
     "execution_count": 7,
>>>>>>> 7ef55fbcca6ed2cfe17b2983e07eb9fa3c4e49b5
     "metadata": {},
     "output_type": "execute_result"
    }
   ],
   "source": [
    "train.head()"
   ]
  },
  {
   "cell_type": "code",
<<<<<<< HEAD
   "execution_count": 9,
=======
   "execution_count": 8,
>>>>>>> 7ef55fbcca6ed2cfe17b2983e07eb9fa3c4e49b5
   "metadata": {},
   "outputs": [
    {
     "data": {
      "text/plain": [
       "(28000, 784)"
      ]
     },
<<<<<<< HEAD
     "execution_count": 9,
=======
     "execution_count": 8,
>>>>>>> 7ef55fbcca6ed2cfe17b2983e07eb9fa3c4e49b5
     "metadata": {},
     "output_type": "execute_result"
    }
   ],
   "source": [
    "test.shape"
   ]
  },
  {
   "cell_type": "code",
<<<<<<< HEAD
   "execution_count": 10,
=======
   "execution_count": 9,
>>>>>>> 7ef55fbcca6ed2cfe17b2983e07eb9fa3c4e49b5
   "metadata": {},
   "outputs": [
    {
     "data": {
      "text/html": [
       "<div>\n",
       "<style scoped>\n",
       "    .dataframe tbody tr th:only-of-type {\n",
       "        vertical-align: middle;\n",
       "    }\n",
       "\n",
       "    .dataframe tbody tr th {\n",
       "        vertical-align: top;\n",
       "    }\n",
       "\n",
       "    .dataframe thead th {\n",
       "        text-align: right;\n",
       "    }\n",
       "</style>\n",
       "<table border=\"1\" class=\"dataframe\">\n",
       "  <thead>\n",
       "    <tr style=\"text-align: right;\">\n",
       "      <th></th>\n",
       "      <th>pixel0</th>\n",
       "      <th>pixel1</th>\n",
       "      <th>pixel2</th>\n",
       "      <th>pixel3</th>\n",
       "      <th>pixel4</th>\n",
       "      <th>pixel5</th>\n",
       "      <th>pixel6</th>\n",
       "      <th>pixel7</th>\n",
       "      <th>pixel8</th>\n",
       "      <th>pixel9</th>\n",
       "      <th>...</th>\n",
       "      <th>pixel774</th>\n",
       "      <th>pixel775</th>\n",
       "      <th>pixel776</th>\n",
       "      <th>pixel777</th>\n",
       "      <th>pixel778</th>\n",
       "      <th>pixel779</th>\n",
       "      <th>pixel780</th>\n",
       "      <th>pixel781</th>\n",
       "      <th>pixel782</th>\n",
       "      <th>pixel783</th>\n",
       "    </tr>\n",
       "  </thead>\n",
       "  <tbody>\n",
       "    <tr>\n",
       "      <th>0</th>\n",
       "      <td>0</td>\n",
       "      <td>0</td>\n",
       "      <td>0</td>\n",
       "      <td>0</td>\n",
       "      <td>0</td>\n",
       "      <td>0</td>\n",
       "      <td>0</td>\n",
       "      <td>0</td>\n",
       "      <td>0</td>\n",
       "      <td>0</td>\n",
       "      <td>...</td>\n",
       "      <td>0</td>\n",
       "      <td>0</td>\n",
       "      <td>0</td>\n",
       "      <td>0</td>\n",
       "      <td>0</td>\n",
       "      <td>0</td>\n",
       "      <td>0</td>\n",
       "      <td>0</td>\n",
       "      <td>0</td>\n",
       "      <td>0</td>\n",
       "    </tr>\n",
       "    <tr>\n",
       "      <th>1</th>\n",
       "      <td>0</td>\n",
       "      <td>0</td>\n",
       "      <td>0</td>\n",
       "      <td>0</td>\n",
       "      <td>0</td>\n",
       "      <td>0</td>\n",
       "      <td>0</td>\n",
       "      <td>0</td>\n",
       "      <td>0</td>\n",
       "      <td>0</td>\n",
       "      <td>...</td>\n",
       "      <td>0</td>\n",
       "      <td>0</td>\n",
       "      <td>0</td>\n",
       "      <td>0</td>\n",
       "      <td>0</td>\n",
       "      <td>0</td>\n",
       "      <td>0</td>\n",
       "      <td>0</td>\n",
       "      <td>0</td>\n",
       "      <td>0</td>\n",
       "    </tr>\n",
       "    <tr>\n",
       "      <th>2</th>\n",
       "      <td>0</td>\n",
       "      <td>0</td>\n",
       "      <td>0</td>\n",
       "      <td>0</td>\n",
       "      <td>0</td>\n",
       "      <td>0</td>\n",
       "      <td>0</td>\n",
       "      <td>0</td>\n",
       "      <td>0</td>\n",
       "      <td>0</td>\n",
       "      <td>...</td>\n",
       "      <td>0</td>\n",
       "      <td>0</td>\n",
       "      <td>0</td>\n",
       "      <td>0</td>\n",
       "      <td>0</td>\n",
       "      <td>0</td>\n",
       "      <td>0</td>\n",
       "      <td>0</td>\n",
       "      <td>0</td>\n",
       "      <td>0</td>\n",
       "    </tr>\n",
       "    <tr>\n",
       "      <th>3</th>\n",
       "      <td>0</td>\n",
       "      <td>0</td>\n",
       "      <td>0</td>\n",
       "      <td>0</td>\n",
       "      <td>0</td>\n",
       "      <td>0</td>\n",
       "      <td>0</td>\n",
       "      <td>0</td>\n",
       "      <td>0</td>\n",
       "      <td>0</td>\n",
       "      <td>...</td>\n",
       "      <td>0</td>\n",
       "      <td>0</td>\n",
       "      <td>0</td>\n",
       "      <td>0</td>\n",
       "      <td>0</td>\n",
       "      <td>0</td>\n",
       "      <td>0</td>\n",
       "      <td>0</td>\n",
       "      <td>0</td>\n",
       "      <td>0</td>\n",
       "    </tr>\n",
       "    <tr>\n",
       "      <th>4</th>\n",
       "      <td>0</td>\n",
       "      <td>0</td>\n",
       "      <td>0</td>\n",
       "      <td>0</td>\n",
       "      <td>0</td>\n",
       "      <td>0</td>\n",
       "      <td>0</td>\n",
       "      <td>0</td>\n",
       "      <td>0</td>\n",
       "      <td>0</td>\n",
       "      <td>...</td>\n",
       "      <td>0</td>\n",
       "      <td>0</td>\n",
       "      <td>0</td>\n",
       "      <td>0</td>\n",
       "      <td>0</td>\n",
       "      <td>0</td>\n",
       "      <td>0</td>\n",
       "      <td>0</td>\n",
       "      <td>0</td>\n",
       "      <td>0</td>\n",
       "    </tr>\n",
       "  </tbody>\n",
       "</table>\n",
       "<p>5 rows × 784 columns</p>\n",
       "</div>"
      ],
      "text/plain": [
       "   pixel0  pixel1  pixel2  pixel3  pixel4  pixel5  pixel6  pixel7  pixel8  \\\n",
       "0       0       0       0       0       0       0       0       0       0   \n",
       "1       0       0       0       0       0       0       0       0       0   \n",
       "2       0       0       0       0       0       0       0       0       0   \n",
       "3       0       0       0       0       0       0       0       0       0   \n",
       "4       0       0       0       0       0       0       0       0       0   \n",
       "\n",
       "   pixel9  ...  pixel774  pixel775  pixel776  pixel777  pixel778  pixel779  \\\n",
       "0       0  ...         0         0         0         0         0         0   \n",
       "1       0  ...         0         0         0         0         0         0   \n",
       "2       0  ...         0         0         0         0         0         0   \n",
       "3       0  ...         0         0         0         0         0         0   \n",
       "4       0  ...         0         0         0         0         0         0   \n",
       "\n",
       "   pixel780  pixel781  pixel782  pixel783  \n",
       "0         0         0         0         0  \n",
       "1         0         0         0         0  \n",
       "2         0         0         0         0  \n",
       "3         0         0         0         0  \n",
       "4         0         0         0         0  \n",
       "\n",
       "[5 rows x 784 columns]"
      ]
     },
<<<<<<< HEAD
     "execution_count": 10,
=======
     "execution_count": 9,
>>>>>>> 7ef55fbcca6ed2cfe17b2983e07eb9fa3c4e49b5
     "metadata": {},
     "output_type": "execute_result"
    }
   ],
   "source": [
    "test.head()"
   ]
  },
  {
   "cell_type": "code",
<<<<<<< HEAD
   "execution_count": 11,
=======
   "execution_count": 10,
>>>>>>> 7ef55fbcca6ed2cfe17b2983e07eb9fa3c4e49b5
   "metadata": {},
   "outputs": [],
   "source": [
    "x_train = (train.iloc[:,1:].values).astype('float32')\n",
    "y_train = train.iloc[:,0].values.astype('int32')\n",
    "x_test = test.values.astype('float32')"
   ]
  },
  {
   "cell_type": "code",
<<<<<<< HEAD
   "execution_count": 12,
=======
   "execution_count": 11,
>>>>>>> 7ef55fbcca6ed2cfe17b2983e07eb9fa3c4e49b5
   "metadata": {},
   "outputs": [
    {
     "data": {
      "text/plain": [
       "array([[0., 0., 0., ..., 0., 0., 0.],\n",
       "       [0., 0., 0., ..., 0., 0., 0.],\n",
       "       [0., 0., 0., ..., 0., 0., 0.],\n",
       "       ...,\n",
       "       [0., 0., 0., ..., 0., 0., 0.],\n",
       "       [0., 0., 0., ..., 0., 0., 0.],\n",
       "       [0., 0., 0., ..., 0., 0., 0.]], dtype=float32)"
      ]
     },
<<<<<<< HEAD
     "execution_count": 12,
=======
     "execution_count": 11,
>>>>>>> 7ef55fbcca6ed2cfe17b2983e07eb9fa3c4e49b5
     "metadata": {},
     "output_type": "execute_result"
    }
   ],
   "source": [
    "x_test"
   ]
  },
  {
   "cell_type": "code",
<<<<<<< HEAD
   "execution_count": 13,
=======
   "execution_count": 12,
>>>>>>> 7ef55fbcca6ed2cfe17b2983e07eb9fa3c4e49b5
   "metadata": {},
   "outputs": [],
   "source": [
    "x_train = x_train.reshape(x_train.shape[0], 28, 28)"
   ]
  },
  {
   "cell_type": "code",
<<<<<<< HEAD
   "execution_count": 14,
=======
   "execution_count": 13,
>>>>>>> 7ef55fbcca6ed2cfe17b2983e07eb9fa3c4e49b5
   "metadata": {},
   "outputs": [
    {
     "data": {
<<<<<<< HEAD
      "image/png": "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\n",
=======
      "image/png": "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\n",
>>>>>>> 7ef55fbcca6ed2cfe17b2983e07eb9fa3c4e49b5
      "text/plain": [
       "<Figure size 432x288 with 3 Axes>"
      ]
     },
     "metadata": {},
     "output_type": "display_data"
    }
   ],
   "source": [
    "for i in range(6, 9):\n",
    "    plt.subplot(330 + (i+1))\n",
    "    plt.imshow(x_train[i], cmap=plt.get_cmap('gray'))\n",
    "    plt.title(y_train[i]);"
   ]
  },
  {
   "cell_type": "code",
<<<<<<< HEAD
   "execution_count": 15,
=======
   "execution_count": 14,
>>>>>>> 7ef55fbcca6ed2cfe17b2983e07eb9fa3c4e49b5
   "metadata": {},
   "outputs": [],
   "source": [
    "x_train = x_train.reshape(x_train.shape[0], 28, 28, 1)"
   ]
  },
  {
   "cell_type": "code",
<<<<<<< HEAD
   "execution_count": 16,
=======
   "execution_count": 15,
>>>>>>> 7ef55fbcca6ed2cfe17b2983e07eb9fa3c4e49b5
   "metadata": {},
   "outputs": [],
   "source": [
    "x_test = x_test.reshape(x_test.shape[0], 28, 28, 1)"
   ]
  },
  {
   "cell_type": "code",
<<<<<<< HEAD
   "execution_count": 17,
=======
   "execution_count": 16,
>>>>>>> 7ef55fbcca6ed2cfe17b2983e07eb9fa3c4e49b5
   "metadata": {},
   "outputs": [
    {
     "data": {
      "text/plain": [
       "(42000, 28, 28, 1)"
      ]
     },
<<<<<<< HEAD
     "execution_count": 17,
=======
     "execution_count": 16,
>>>>>>> 7ef55fbcca6ed2cfe17b2983e07eb9fa3c4e49b5
     "metadata": {},
     "output_type": "execute_result"
    }
   ],
   "source": [
    "x_train.shape"
   ]
  },
  {
   "cell_type": "code",
<<<<<<< HEAD
   "execution_count": 18,
=======
   "execution_count": 17,
>>>>>>> 7ef55fbcca6ed2cfe17b2983e07eb9fa3c4e49b5
   "metadata": {},
   "outputs": [
    {
     "data": {
      "text/plain": [
       "(28000, 28, 28, 1)"
      ]
     },
<<<<<<< HEAD
     "execution_count": 18,
=======
     "execution_count": 17,
>>>>>>> 7ef55fbcca6ed2cfe17b2983e07eb9fa3c4e49b5
     "metadata": {},
     "output_type": "execute_result"
    }
   ],
   "source": [
    "x_test.shape"
   ]
  },
  {
   "cell_type": "code",
<<<<<<< HEAD
   "execution_count": 19,
=======
   "execution_count": 18,
>>>>>>> 7ef55fbcca6ed2cfe17b2983e07eb9fa3c4e49b5
   "metadata": {},
   "outputs": [],
   "source": [
    "mean_px = x_train.mean().astype('float32')\n",
    "std_px = x_train.std().astype('float32')\n",
    "\n",
    "def standardize(x):\n",
    "    return (x-mean_px)/std_px"
   ]
  },
  {
   "cell_type": "code",
<<<<<<< HEAD
   "execution_count": 20,
=======
   "execution_count": 19,
>>>>>>> 7ef55fbcca6ed2cfe17b2983e07eb9fa3c4e49b5
   "metadata": {},
   "outputs": [
    {
     "data": {
      "text/plain": [
       "10"
      ]
     },
<<<<<<< HEAD
     "execution_count": 20,
=======
     "execution_count": 19,
>>>>>>> 7ef55fbcca6ed2cfe17b2983e07eb9fa3c4e49b5
     "metadata": {},
     "output_type": "execute_result"
    }
   ],
   "source": [
    "from keras.utils.np_utils import to_categorical\n",
    "\n",
    "y_train = to_categorical(y_train)\n",
    "num_classes = y_train.shape[1]\n",
    "num_classes"
   ]
  },
  {
   "cell_type": "code",
<<<<<<< HEAD
   "execution_count": 23,
=======
   "execution_count": 20,
>>>>>>> 7ef55fbcca6ed2cfe17b2983e07eb9fa3c4e49b5
   "metadata": {},
   "outputs": [
    {
     "name": "stderr",
     "output_type": "stream",
     "text": [
<<<<<<< HEAD
      "c:\\users\\wonhee\\anaconda3\\envs\\tensorgpu211\\lib\\site-packages\\matplotlib\\text.py:1150: FutureWarning: elementwise comparison failed; returning scalar instead, but in the future will perform elementwise comparison\n",
=======
      "/Users/wonhee/anaconda3/envs/neuralnetwork/lib/python3.7/site-packages/matplotlib/text.py:1150: FutureWarning: elementwise comparison failed; returning scalar instead, but in the future will perform elementwise comparison\n",
>>>>>>> 7ef55fbcca6ed2cfe17b2983e07eb9fa3c4e49b5
      "  if s != self._text:\n"
     ]
    },
    {
     "data": {
<<<<<<< HEAD
      "image/png": "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\n",
=======
      "image/png": "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\n",
>>>>>>> 7ef55fbcca6ed2cfe17b2983e07eb9fa3c4e49b5
      "text/plain": [
       "<Figure size 432x288 with 1 Axes>"
      ]
     },
     "metadata": {},
     "output_type": "display_data"
    }
   ],
   "source": [
    "plt.title(y_train[200])\n",
    "plt.plot(y_train[200])\n",
    "plt.xticks(range(10));\n",
    "plt.show()"
   ]
  },
  {
   "cell_type": "code",
<<<<<<< HEAD
   "execution_count": 21,
=======
   "execution_count": 20,
>>>>>>> 7ef55fbcca6ed2cfe17b2983e07eb9fa3c4e49b5
   "metadata": {},
   "outputs": [],
   "source": [
    "seed = 43\n",
    "np.random.seed(seed)"
   ]
  },
  {
   "cell_type": "code",
<<<<<<< HEAD
   "execution_count": 22,
=======
   "execution_count": 21,
>>>>>>> 7ef55fbcca6ed2cfe17b2983e07eb9fa3c4e49b5
   "metadata": {},
   "outputs": [
    {
     "name": "stdout",
     "output_type": "stream",
     "text": [
      "input layer (None, 28, 28, 1)\n",
      "output_layer (None, 10)\n"
     ]
    }
   ],
   "source": [
    "model = Sequential()\n",
    "model.add(Lambda(standardize, input_shape=(28, 28, 1)))\n",
    "model.add(Flatten())\n",
    "model.add(Dense(10, activation='softmax'))\n",
    "\n",
    "print('input layer', model.input_shape)\n",
    "print('output_layer', model.output_shape)"
   ]
  },
  {
   "cell_type": "code",
<<<<<<< HEAD
   "execution_count": 23,
=======
   "execution_count": 22,
>>>>>>> 7ef55fbcca6ed2cfe17b2983e07eb9fa3c4e49b5
   "metadata": {},
   "outputs": [],
   "source": [
    "model.compile(optimizer=RMSprop(lr=0.001), loss='categorical_crossentropy', metrics=['accuracy'])"
   ]
  },
  {
   "cell_type": "code",
<<<<<<< HEAD
   "execution_count": 24,
=======
   "execution_count": 23,
>>>>>>> 7ef55fbcca6ed2cfe17b2983e07eb9fa3c4e49b5
   "metadata": {},
   "outputs": [],
   "source": [
    "gen = ImageDataGenerator()"
   ]
  },
  {
   "cell_type": "code",
<<<<<<< HEAD
   "execution_count": 25,
=======
   "execution_count": 24,
>>>>>>> 7ef55fbcca6ed2cfe17b2983e07eb9fa3c4e49b5
   "metadata": {},
   "outputs": [],
   "source": [
    "X = x_train\n",
    "y = y_train\n",
    "X_train, X_val, y_train, y_val = train_test_split(x_train, y_train, test_size=0.10, random_state = 42)\n",
    "batches = gen.flow(X_train, y_train, batch_size=64)\n",
    "val_batches = gen.flow(X_val, y_val, batch_size=64)"
   ]
  },
  {
   "cell_type": "code",
   "execution_count": 26,
<<<<<<< HEAD
   "metadata": {
    "scrolled": true
   },
=======
   "metadata": {},
>>>>>>> 7ef55fbcca6ed2cfe17b2983e07eb9fa3c4e49b5
   "outputs": [
    {
     "name": "stdout",
     "output_type": "stream",
     "text": [
      "Epoch 1/4\n",
<<<<<<< HEAD
      "  219/37800 [..............................] - ETA: 26:47 - loss: 0.6276 - accuracy: 0.8047"
     ]
    },
    {
     "ename": "KeyboardInterrupt",
     "evalue": "",
     "output_type": "error",
     "traceback": [
      "\u001b[1;31m---------------------------------------------------------------------------\u001b[0m",
      "\u001b[1;31mKeyboardInterrupt\u001b[0m                         Traceback (most recent call last)",
      "\u001b[1;32m<ipython-input-26-64c6a969d1bb>\u001b[0m in \u001b[0;36m<module>\u001b[1;34m\u001b[0m\n\u001b[1;32m----> 1\u001b[1;33m \u001b[0mhistory\u001b[0m\u001b[1;33m=\u001b[0m\u001b[0mmodel\u001b[0m\u001b[1;33m.\u001b[0m\u001b[0mfit_generator\u001b[0m\u001b[1;33m(\u001b[0m\u001b[0mgenerator\u001b[0m\u001b[1;33m=\u001b[0m\u001b[0mbatches\u001b[0m\u001b[1;33m,\u001b[0m \u001b[0msteps_per_epoch\u001b[0m\u001b[1;33m=\u001b[0m\u001b[0mbatches\u001b[0m\u001b[1;33m.\u001b[0m\u001b[0mn\u001b[0m\u001b[1;33m,\u001b[0m \u001b[0mepochs\u001b[0m\u001b[1;33m=\u001b[0m\u001b[1;36m4\u001b[0m\u001b[1;33m,\u001b[0m \u001b[0mvalidation_data\u001b[0m \u001b[1;33m=\u001b[0m \u001b[0mval_batches\u001b[0m\u001b[1;33m,\u001b[0m \u001b[0mvalidation_steps\u001b[0m \u001b[1;33m=\u001b[0m \u001b[0mval_batches\u001b[0m\u001b[1;33m.\u001b[0m\u001b[0mn\u001b[0m\u001b[1;33m)\u001b[0m\u001b[1;33m\u001b[0m\u001b[1;33m\u001b[0m\u001b[0m\n\u001b[0m",
      "\u001b[1;32mc:\\users\\wonhee\\anaconda3\\envs\\tensorgpu211\\lib\\site-packages\\keras\\legacy\\interfaces.py\u001b[0m in \u001b[0;36mwrapper\u001b[1;34m(*args, **kwargs)\u001b[0m\n\u001b[0;32m     89\u001b[0m                 warnings.warn('Update your `' + object_name + '` call to the ' +\n\u001b[0;32m     90\u001b[0m                               'Keras 2 API: ' + signature, stacklevel=2)\n\u001b[1;32m---> 91\u001b[1;33m             \u001b[1;32mreturn\u001b[0m \u001b[0mfunc\u001b[0m\u001b[1;33m(\u001b[0m\u001b[1;33m*\u001b[0m\u001b[0margs\u001b[0m\u001b[1;33m,\u001b[0m \u001b[1;33m**\u001b[0m\u001b[0mkwargs\u001b[0m\u001b[1;33m)\u001b[0m\u001b[1;33m\u001b[0m\u001b[1;33m\u001b[0m\u001b[0m\n\u001b[0m\u001b[0;32m     92\u001b[0m         \u001b[0mwrapper\u001b[0m\u001b[1;33m.\u001b[0m\u001b[0m_original_function\u001b[0m \u001b[1;33m=\u001b[0m \u001b[0mfunc\u001b[0m\u001b[1;33m\u001b[0m\u001b[1;33m\u001b[0m\u001b[0m\n\u001b[0;32m     93\u001b[0m         \u001b[1;32mreturn\u001b[0m \u001b[0mwrapper\u001b[0m\u001b[1;33m\u001b[0m\u001b[1;33m\u001b[0m\u001b[0m\n",
      "\u001b[1;32mc:\\users\\wonhee\\anaconda3\\envs\\tensorgpu211\\lib\\site-packages\\keras\\engine\\training.py\u001b[0m in \u001b[0;36mfit_generator\u001b[1;34m(self, generator, steps_per_epoch, epochs, verbose, callbacks, validation_data, validation_steps, validation_freq, class_weight, max_queue_size, workers, use_multiprocessing, shuffle, initial_epoch)\u001b[0m\n\u001b[0;32m   1730\u001b[0m             \u001b[0muse_multiprocessing\u001b[0m\u001b[1;33m=\u001b[0m\u001b[0muse_multiprocessing\u001b[0m\u001b[1;33m,\u001b[0m\u001b[1;33m\u001b[0m\u001b[1;33m\u001b[0m\u001b[0m\n\u001b[0;32m   1731\u001b[0m             \u001b[0mshuffle\u001b[0m\u001b[1;33m=\u001b[0m\u001b[0mshuffle\u001b[0m\u001b[1;33m,\u001b[0m\u001b[1;33m\u001b[0m\u001b[1;33m\u001b[0m\u001b[0m\n\u001b[1;32m-> 1732\u001b[1;33m             initial_epoch=initial_epoch)\n\u001b[0m\u001b[0;32m   1733\u001b[0m \u001b[1;33m\u001b[0m\u001b[0m\n\u001b[0;32m   1734\u001b[0m     \u001b[1;33m@\u001b[0m\u001b[0minterfaces\u001b[0m\u001b[1;33m.\u001b[0m\u001b[0mlegacy_generator_methods_support\u001b[0m\u001b[1;33m\u001b[0m\u001b[1;33m\u001b[0m\u001b[0m\n",
      "\u001b[1;32mc:\\users\\wonhee\\anaconda3\\envs\\tensorgpu211\\lib\\site-packages\\keras\\engine\\training_generator.py\u001b[0m in \u001b[0;36mfit_generator\u001b[1;34m(model, generator, steps_per_epoch, epochs, verbose, callbacks, validation_data, validation_steps, validation_freq, class_weight, max_queue_size, workers, use_multiprocessing, shuffle, initial_epoch)\u001b[0m\n\u001b[0;32m    218\u001b[0m                                             \u001b[0msample_weight\u001b[0m\u001b[1;33m=\u001b[0m\u001b[0msample_weight\u001b[0m\u001b[1;33m,\u001b[0m\u001b[1;33m\u001b[0m\u001b[1;33m\u001b[0m\u001b[0m\n\u001b[0;32m    219\u001b[0m                                             \u001b[0mclass_weight\u001b[0m\u001b[1;33m=\u001b[0m\u001b[0mclass_weight\u001b[0m\u001b[1;33m,\u001b[0m\u001b[1;33m\u001b[0m\u001b[1;33m\u001b[0m\u001b[0m\n\u001b[1;32m--> 220\u001b[1;33m                                             reset_metrics=False)\n\u001b[0m\u001b[0;32m    221\u001b[0m \u001b[1;33m\u001b[0m\u001b[0m\n\u001b[0;32m    222\u001b[0m                 \u001b[0mouts\u001b[0m \u001b[1;33m=\u001b[0m \u001b[0mto_list\u001b[0m\u001b[1;33m(\u001b[0m\u001b[0mouts\u001b[0m\u001b[1;33m)\u001b[0m\u001b[1;33m\u001b[0m\u001b[1;33m\u001b[0m\u001b[0m\n",
      "\u001b[1;32mc:\\users\\wonhee\\anaconda3\\envs\\tensorgpu211\\lib\\site-packages\\keras\\engine\\training.py\u001b[0m in \u001b[0;36mtrain_on_batch\u001b[1;34m(self, x, y, sample_weight, class_weight, reset_metrics)\u001b[0m\n\u001b[0;32m   1512\u001b[0m             \u001b[0mins\u001b[0m \u001b[1;33m=\u001b[0m \u001b[0mx\u001b[0m \u001b[1;33m+\u001b[0m \u001b[0my\u001b[0m \u001b[1;33m+\u001b[0m \u001b[0msample_weights\u001b[0m\u001b[1;33m\u001b[0m\u001b[1;33m\u001b[0m\u001b[0m\n\u001b[0;32m   1513\u001b[0m         \u001b[0mself\u001b[0m\u001b[1;33m.\u001b[0m\u001b[0m_make_train_function\u001b[0m\u001b[1;33m(\u001b[0m\u001b[1;33m)\u001b[0m\u001b[1;33m\u001b[0m\u001b[1;33m\u001b[0m\u001b[0m\n\u001b[1;32m-> 1514\u001b[1;33m         \u001b[0moutputs\u001b[0m \u001b[1;33m=\u001b[0m \u001b[0mself\u001b[0m\u001b[1;33m.\u001b[0m\u001b[0mtrain_function\u001b[0m\u001b[1;33m(\u001b[0m\u001b[0mins\u001b[0m\u001b[1;33m)\u001b[0m\u001b[1;33m\u001b[0m\u001b[1;33m\u001b[0m\u001b[0m\n\u001b[0m\u001b[0;32m   1515\u001b[0m \u001b[1;33m\u001b[0m\u001b[0m\n\u001b[0;32m   1516\u001b[0m         \u001b[1;32mif\u001b[0m \u001b[0mreset_metrics\u001b[0m\u001b[1;33m:\u001b[0m\u001b[1;33m\u001b[0m\u001b[1;33m\u001b[0m\u001b[0m\n",
      "\u001b[1;32mc:\\users\\wonhee\\anaconda3\\envs\\tensorgpu211\\lib\\site-packages\\tensorflow_core\\python\\keras\\backend.py\u001b[0m in \u001b[0;36m__call__\u001b[1;34m(self, inputs)\u001b[0m\n\u001b[0;32m   3725\u001b[0m         \u001b[0mvalue\u001b[0m \u001b[1;33m=\u001b[0m \u001b[0mmath_ops\u001b[0m\u001b[1;33m.\u001b[0m\u001b[0mcast\u001b[0m\u001b[1;33m(\u001b[0m\u001b[0mvalue\u001b[0m\u001b[1;33m,\u001b[0m \u001b[0mtensor\u001b[0m\u001b[1;33m.\u001b[0m\u001b[0mdtype\u001b[0m\u001b[1;33m)\u001b[0m\u001b[1;33m\u001b[0m\u001b[1;33m\u001b[0m\u001b[0m\n\u001b[0;32m   3726\u001b[0m       \u001b[0mconverted_inputs\u001b[0m\u001b[1;33m.\u001b[0m\u001b[0mappend\u001b[0m\u001b[1;33m(\u001b[0m\u001b[0mvalue\u001b[0m\u001b[1;33m)\u001b[0m\u001b[1;33m\u001b[0m\u001b[1;33m\u001b[0m\u001b[0m\n\u001b[1;32m-> 3727\u001b[1;33m     \u001b[0moutputs\u001b[0m \u001b[1;33m=\u001b[0m \u001b[0mself\u001b[0m\u001b[1;33m.\u001b[0m\u001b[0m_graph_fn\u001b[0m\u001b[1;33m(\u001b[0m\u001b[1;33m*\u001b[0m\u001b[0mconverted_inputs\u001b[0m\u001b[1;33m)\u001b[0m\u001b[1;33m\u001b[0m\u001b[1;33m\u001b[0m\u001b[0m\n\u001b[0m\u001b[0;32m   3728\u001b[0m \u001b[1;33m\u001b[0m\u001b[0m\n\u001b[0;32m   3729\u001b[0m     \u001b[1;31m# EagerTensor.numpy() will often make a copy to ensure memory safety.\u001b[0m\u001b[1;33m\u001b[0m\u001b[1;33m\u001b[0m\u001b[1;33m\u001b[0m\u001b[0m\n",
      "\u001b[1;32mc:\\users\\wonhee\\anaconda3\\envs\\tensorgpu211\\lib\\site-packages\\tensorflow_core\\python\\eager\\function.py\u001b[0m in \u001b[0;36m__call__\u001b[1;34m(self, *args, **kwargs)\u001b[0m\n\u001b[0;32m   1549\u001b[0m       \u001b[0mTypeError\u001b[0m\u001b[1;33m:\u001b[0m \u001b[0mFor\u001b[0m \u001b[0minvalid\u001b[0m \u001b[0mpositional\u001b[0m\u001b[1;33m/\u001b[0m\u001b[0mkeyword\u001b[0m \u001b[0margument\u001b[0m \u001b[0mcombinations\u001b[0m\u001b[1;33m.\u001b[0m\u001b[1;33m\u001b[0m\u001b[1;33m\u001b[0m\u001b[0m\n\u001b[0;32m   1550\u001b[0m     \"\"\"\n\u001b[1;32m-> 1551\u001b[1;33m     \u001b[1;32mreturn\u001b[0m \u001b[0mself\u001b[0m\u001b[1;33m.\u001b[0m\u001b[0m_call_impl\u001b[0m\u001b[1;33m(\u001b[0m\u001b[0margs\u001b[0m\u001b[1;33m,\u001b[0m \u001b[0mkwargs\u001b[0m\u001b[1;33m)\u001b[0m\u001b[1;33m\u001b[0m\u001b[1;33m\u001b[0m\u001b[0m\n\u001b[0m\u001b[0;32m   1552\u001b[0m \u001b[1;33m\u001b[0m\u001b[0m\n\u001b[0;32m   1553\u001b[0m   \u001b[1;32mdef\u001b[0m \u001b[0m_call_impl\u001b[0m\u001b[1;33m(\u001b[0m\u001b[0mself\u001b[0m\u001b[1;33m,\u001b[0m \u001b[0margs\u001b[0m\u001b[1;33m,\u001b[0m \u001b[0mkwargs\u001b[0m\u001b[1;33m,\u001b[0m \u001b[0mcancellation_manager\u001b[0m\u001b[1;33m=\u001b[0m\u001b[1;32mNone\u001b[0m\u001b[1;33m)\u001b[0m\u001b[1;33m:\u001b[0m\u001b[1;33m\u001b[0m\u001b[1;33m\u001b[0m\u001b[0m\n",
      "\u001b[1;32mc:\\users\\wonhee\\anaconda3\\envs\\tensorgpu211\\lib\\site-packages\\tensorflow_core\\python\\eager\\function.py\u001b[0m in \u001b[0;36m_call_impl\u001b[1;34m(self, args, kwargs, cancellation_manager)\u001b[0m\n\u001b[0;32m   1589\u001b[0m       raise TypeError(\"Keyword arguments {} unknown. Expected {}.\".format(\n\u001b[0;32m   1590\u001b[0m           list(kwargs.keys()), list(self._arg_keywords)))\n\u001b[1;32m-> 1591\u001b[1;33m     \u001b[1;32mreturn\u001b[0m \u001b[0mself\u001b[0m\u001b[1;33m.\u001b[0m\u001b[0m_call_flat\u001b[0m\u001b[1;33m(\u001b[0m\u001b[0margs\u001b[0m\u001b[1;33m,\u001b[0m \u001b[0mself\u001b[0m\u001b[1;33m.\u001b[0m\u001b[0mcaptured_inputs\u001b[0m\u001b[1;33m,\u001b[0m \u001b[0mcancellation_manager\u001b[0m\u001b[1;33m)\u001b[0m\u001b[1;33m\u001b[0m\u001b[1;33m\u001b[0m\u001b[0m\n\u001b[0m\u001b[0;32m   1592\u001b[0m \u001b[1;33m\u001b[0m\u001b[0m\n\u001b[0;32m   1593\u001b[0m   \u001b[1;32mdef\u001b[0m \u001b[0m_filtered_call\u001b[0m\u001b[1;33m(\u001b[0m\u001b[0mself\u001b[0m\u001b[1;33m,\u001b[0m \u001b[0margs\u001b[0m\u001b[1;33m,\u001b[0m \u001b[0mkwargs\u001b[0m\u001b[1;33m)\u001b[0m\u001b[1;33m:\u001b[0m\u001b[1;33m\u001b[0m\u001b[1;33m\u001b[0m\u001b[0m\n",
      "\u001b[1;32mc:\\users\\wonhee\\anaconda3\\envs\\tensorgpu211\\lib\\site-packages\\tensorflow_core\\python\\eager\\function.py\u001b[0m in \u001b[0;36m_call_flat\u001b[1;34m(self, args, captured_inputs, cancellation_manager)\u001b[0m\n\u001b[0;32m   1690\u001b[0m       \u001b[1;31m# No tape is watching; skip to running the function.\u001b[0m\u001b[1;33m\u001b[0m\u001b[1;33m\u001b[0m\u001b[1;33m\u001b[0m\u001b[0m\n\u001b[0;32m   1691\u001b[0m       return self._build_call_outputs(self._inference_function.call(\n\u001b[1;32m-> 1692\u001b[1;33m           ctx, args, cancellation_manager=cancellation_manager))\n\u001b[0m\u001b[0;32m   1693\u001b[0m     forward_backward = self._select_forward_and_backward_functions(\n\u001b[0;32m   1694\u001b[0m         \u001b[0margs\u001b[0m\u001b[1;33m,\u001b[0m\u001b[1;33m\u001b[0m\u001b[1;33m\u001b[0m\u001b[0m\n",
      "\u001b[1;32mc:\\users\\wonhee\\anaconda3\\envs\\tensorgpu211\\lib\\site-packages\\tensorflow_core\\python\\eager\\function.py\u001b[0m in \u001b[0;36mcall\u001b[1;34m(self, ctx, args, cancellation_manager)\u001b[0m\n\u001b[0;32m    543\u001b[0m               \u001b[0minputs\u001b[0m\u001b[1;33m=\u001b[0m\u001b[0margs\u001b[0m\u001b[1;33m,\u001b[0m\u001b[1;33m\u001b[0m\u001b[1;33m\u001b[0m\u001b[0m\n\u001b[0;32m    544\u001b[0m               \u001b[0mattrs\u001b[0m\u001b[1;33m=\u001b[0m\u001b[1;33m(\u001b[0m\u001b[1;34m\"executor_type\"\u001b[0m\u001b[1;33m,\u001b[0m \u001b[0mexecutor_type\u001b[0m\u001b[1;33m,\u001b[0m \u001b[1;34m\"config_proto\"\u001b[0m\u001b[1;33m,\u001b[0m \u001b[0mconfig\u001b[0m\u001b[1;33m)\u001b[0m\u001b[1;33m,\u001b[0m\u001b[1;33m\u001b[0m\u001b[1;33m\u001b[0m\u001b[0m\n\u001b[1;32m--> 545\u001b[1;33m               ctx=ctx)\n\u001b[0m\u001b[0;32m    546\u001b[0m         \u001b[1;32melse\u001b[0m\u001b[1;33m:\u001b[0m\u001b[1;33m\u001b[0m\u001b[1;33m\u001b[0m\u001b[0m\n\u001b[0;32m    547\u001b[0m           outputs = execute.execute_with_cancellation(\n",
      "\u001b[1;32mc:\\users\\wonhee\\anaconda3\\envs\\tensorgpu211\\lib\\site-packages\\tensorflow_core\\python\\eager\\execute.py\u001b[0m in \u001b[0;36mquick_execute\u001b[1;34m(op_name, num_outputs, inputs, attrs, ctx, name)\u001b[0m\n\u001b[0;32m     59\u001b[0m     tensors = pywrap_tensorflow.TFE_Py_Execute(ctx._handle, device_name,\n\u001b[0;32m     60\u001b[0m                                                \u001b[0mop_name\u001b[0m\u001b[1;33m,\u001b[0m \u001b[0minputs\u001b[0m\u001b[1;33m,\u001b[0m \u001b[0mattrs\u001b[0m\u001b[1;33m,\u001b[0m\u001b[1;33m\u001b[0m\u001b[1;33m\u001b[0m\u001b[0m\n\u001b[1;32m---> 61\u001b[1;33m                                                num_outputs)\n\u001b[0m\u001b[0;32m     62\u001b[0m   \u001b[1;32mexcept\u001b[0m \u001b[0mcore\u001b[0m\u001b[1;33m.\u001b[0m\u001b[0m_NotOkStatusException\u001b[0m \u001b[1;32mas\u001b[0m \u001b[0me\u001b[0m\u001b[1;33m:\u001b[0m\u001b[1;33m\u001b[0m\u001b[1;33m\u001b[0m\u001b[0m\n\u001b[0;32m     63\u001b[0m     \u001b[1;32mif\u001b[0m \u001b[0mname\u001b[0m \u001b[1;32mis\u001b[0m \u001b[1;32mnot\u001b[0m \u001b[1;32mNone\u001b[0m\u001b[1;33m:\u001b[0m\u001b[1;33m\u001b[0m\u001b[1;33m\u001b[0m\u001b[0m\n",
      "\u001b[1;31mKeyboardInterrupt\u001b[0m: "
=======
      "37800/37800 [==============================] - 69s 2ms/step - loss: 0.2406 - accuracy: 0.9338 - val_loss: 0.5129 - val_accuracy: 0.9038\n",
      "Epoch 2/4\n",
      "37800/37800 [==============================] - 69s 2ms/step - loss: 0.2168 - accuracy: 0.9410 - val_loss: 0.4709 - val_accuracy: 0.9066\n",
      "Epoch 3/4\n",
      "37800/37800 [==============================] - 69s 2ms/step - loss: 0.2113 - accuracy: 0.9427 - val_loss: 0.3532 - val_accuracy: 0.9043\n",
      "Epoch 4/4\n",
      "37800/37800 [==============================] - 69s 2ms/step - loss: 0.2086 - accuracy: 0.9437 - val_loss: 0.2960 - val_accuracy: 0.8970\n"
>>>>>>> 7ef55fbcca6ed2cfe17b2983e07eb9fa3c4e49b5
     ]
    }
   ],
   "source": [
    "history=model.fit_generator(generator=batches, steps_per_epoch=batches.n, epochs=4, validation_data = val_batches, validation_steps = val_batches.n)"
   ]
  },
  {
   "cell_type": "code",
   "execution_count": 31,
   "metadata": {},
   "outputs": [
    {
     "data": {
      "text/plain": [
       "dict_keys(['val_loss', 'val_accuracy', 'loss', 'accuracy'])"
      ]
     },
     "execution_count": 31,
     "metadata": {},
     "output_type": "execute_result"
    }
   ],
   "source": [
    "history_dict = history.history\n",
    "history_dict.keys()"
   ]
  },
  {
   "cell_type": "code",
   "execution_count": 35,
   "metadata": {},
   "outputs": [
    {
     "data": {
      "text/plain": [
       "Text(0, 0.5, 'Losses')"
      ]
     },
     "execution_count": 35,
     "metadata": {},
     "output_type": "execute_result"
    },
    {
     "data": {
      "image/png": "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\n",
      "text/plain": [
       "<Figure size 432x288 with 1 Axes>"
      ]
     },
     "metadata": {},
     "output_type": "display_data"
    }
   ],
   "source": [
    "losses = history_dict['loss']\n",
    "val_losses = history_dict['val_loss']\n",
    "epoches = range(1, len(val_losses)+1)\n",
    "\n",
    "plt.plot(epoches, losses, 'bo')\n",
    "plt.plot(epoches, val_losses, 'b+')\n",
    "plt.xlabel('Epoches')\n",
    "plt.ylabel('Losses')"
   ]
  },
  {
   "cell_type": "code",
   "execution_count": 36,
   "metadata": {},
   "outputs": [
    {
     "data": {
      "text/plain": [
       "Text(0, 0.5, 'Accuracy')"
      ]
     },
     "execution_count": 36,
     "metadata": {},
     "output_type": "execute_result"
    },
    {
     "data": {
      "image/png": "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\n",
      "text/plain": [
       "<Figure size 432x288 with 1 Axes>"
      ]
     },
     "metadata": {},
     "output_type": "display_data"
    }
   ],
   "source": [
    "accuracy = history_dict['accuracy']\n",
    "val_accuracy = history_dict['val_accuracy']\n",
    "\n",
    "plt.plot(epoches, accuracy, 'bo')\n",
    "plt.plot(epoches, val_accuracy, 'b+')\n",
    "plt.xlabel('Epoches')\n",
    "plt.ylabel('Accuracy')"
   ]
  },
  {
   "cell_type": "code",
   "execution_count": 39,
   "metadata": {},
   "outputs": [
    {
     "data": {
      "image/png": "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\n",
      "text/plain": [
       "<Figure size 720x648 with 1 Axes>"
      ]
     },
     "metadata": {},
     "output_type": "display_data"
    }
   ],
   "source": [
    "pd.DataFrame(history.history).plot(figsize=(10, 9))\n",
    "plt.grid(True)\n",
    "plt.gca().set_ylim(0, 1)\n",
    "plt.xlabel('Epoches')\n",
    "plt.show()"
   ]
  },
  {
   "cell_type": "code",
   "execution_count": 40,
   "metadata": {},
   "outputs": [],
   "source": [
    "def fully_connected_model():\n",
    "    model = Sequential([\n",
    "        Lambda(standardize, input_shape=(28, 28, 1)),\n",
    "        Flatten(),\n",
    "        Dense(512, activation='relu'),\n",
    "        Dense(10, activation='softmax')\n",
    "    ])\n",
    "    \n",
    "    model.compile(optimizer='Adam'(lr=0.01), loss='categorical_crossentropy', metrics=['accuracy'])\n",
    "    return model"
   ]
  },
  {
   "cell_type": "code",
   "execution_count": 43,
   "metadata": {},
   "outputs": [],
   "source": [
    "fc = fully_connected_model()"
   ]
  },
  {
   "cell_type": "code",
   "execution_count": 45,
   "metadata": {},
   "outputs": [
    {
     "name": "stdout",
     "output_type": "stream",
     "text": [
      "Epoch 1/2\n",
      "37800/37800 [==============================] - 224s 6ms/step - loss: 0.0157 - accuracy: 0.9952 - val_loss: 0.2278 - val_accuracy: 0.9769\n",
      "Epoch 2/2\n",
      "37800/37800 [==============================] - 226s 6ms/step - loss: 0.0036 - accuracy: 0.9992 - val_loss: 0.2391 - val_accuracy: 0.9824\n"
     ]
    }
   ],
   "source": [
    "history = fc.fit_generator(generator = batches, steps_per_epoch = batches.n, epochs=2, validation_data = val_batches, validation_steps = val_batches.n)"
   ]
  },
  {
   "cell_type": "code",
   "execution_count": 46,
   "metadata": {},
   "outputs": [
    {
     "data": {
      "text/plain": [
       "dict_keys(['val_loss', 'val_accuracy', 'loss', 'accuracy'])"
      ]
     },
     "execution_count": 46,
     "metadata": {},
     "output_type": "execute_result"
    }
   ],
   "source": [
    "history2_dict = history.history\n",
    "history2_dict.keys()"
   ]
  },
  {
   "cell_type": "code",
   "execution_count": 47,
   "metadata": {},
   "outputs": [
    {
     "data": {
      "image/png": "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\n",
      "text/plain": [
       "<Figure size 720x648 with 1 Axes>"
      ]
     },
     "metadata": {},
     "output_type": "display_data"
    }
   ],
   "source": [
    "pd.DataFrame(history2_dict).plot(figsize=(10, 9))\n",
    "plt.grid(True)\n",
    "plt.gca().set_ylim(0, 1)\n",
    "plt.show()"
   ]
  },
  {
   "cell_type": "code",
   "execution_count": 48,
   "metadata": {},
   "outputs": [],
   "source": [
    "fc.save('Fully Connected Layer.h5')"
   ]
  },
  {
   "cell_type": "code",
<<<<<<< HEAD
   "execution_count": 26,
   "metadata": {},
   "outputs": [],
   "source": [
    "def cnn_model():\n",
    "    model = Sequential([\n",
    "        Lambda(standardize, input_shape=(28,28, 1)),\n",
    "        Convolution2D(filters=32, kernel_size=(3, 3), padding='same', activation='relu'),\n",
    "        Convolution2D(filters=32, kernel_size=(3, 3), padding='same', activation='relu'),\n",
    "        MaxPool2D(pool_size=(2,2)),\n",
    "        Convolution2D(filters=64, kernel_size=(3, 3), padding='same', activation='relu'),\n",
    "        Convolution2D(filters=64, kernel_size=(3, 3), padding='same', activation='relu'),\n",
=======
   "execution_count": 25,
   "metadata": {},
   "outputs": [],
   "source": [
    "def CNN_model():\n",
    "    model = Sequential([\n",
    "        Lambda(standardize, input_shape=(28, 28, 1)),\n",
    "        Convolution2D(filters=32, kernel_size=(5,5), padding='same', activation='relu'),\n",
    "        Convolution2D(filters=32, kernel_size=(5,5), padding='same', activation='relu'),\n",
    "        MaxPool2D(pool_size=(2,2)),\n",
    "        Convolution2D(filters=64, kernel_size=(3,3), padding='same', activation='relu'),\n",
    "        Convolution2D(filters=64, kernel_size=(3,3), padding='same', activation='relu'),\n",
>>>>>>> 7ef55fbcca6ed2cfe17b2983e07eb9fa3c4e49b5
    "        MaxPool2D(pool_size=(2,2), strides=(2,2)),\n",
    "        Flatten(),\n",
    "        Dense(256, activation='relu'),\n",
    "        Dropout(0.5),\n",
    "        Dense(10, activation='softmax')\n",
    "    ])\n",
<<<<<<< HEAD
    "    \n",
    "    optimizer=RMSprop(lr=0.001)\n",
    "    model.compile(optimizer=optimizer, loss='categorical_crossentropy', metrics=['accuracy'])\n",
    "    \n",
=======
    "    optimizer = RMSprop(lr=0.001)\n",
    "    model.compile(optimizer=optimizer, loss='categorical_crossentropy', metrics=['accuracy'])\n",
>>>>>>> 7ef55fbcca6ed2cfe17b2983e07eb9fa3c4e49b5
    "    return model"
   ]
  },
  {
   "cell_type": "code",
<<<<<<< HEAD
   "execution_count": 29,
   "metadata": {},
   "outputs": [],
   "source": [
    "learning_rate_reduction = ReduceLROnPlateau(monitor='val_acc', patience=3, verbose=1, factor=0.5, min_lr=0.0001)"
=======
   "execution_count": 26,
   "metadata": {},
   "outputs": [],
   "source": [
    "learning_rate_reduction = ReduceLROnPlateau(monitor='val_acc', patience=3, verbose=1, factor=0.5, min_lr=0.00001)\n",
    "epochs = 1\n",
    "batch_size = 64"
>>>>>>> 7ef55fbcca6ed2cfe17b2983e07eb9fa3c4e49b5
   ]
  },
  {
   "cell_type": "code",
<<<<<<< HEAD
   "execution_count": 30,
   "metadata": {},
   "outputs": [],
   "source": [
    "cnn_model = cnn_model()"
=======
   "execution_count": 27,
   "metadata": {},
   "outputs": [],
   "source": [
    "cnn_model = CNN_model()"
>>>>>>> 7ef55fbcca6ed2cfe17b2983e07eb9fa3c4e49b5
   ]
  },
  {
   "cell_type": "code",
<<<<<<< HEAD
   "execution_count": 31,
   "metadata": {
    "scrolled": false
   },
=======
   "execution_count": 28,
   "metadata": {},
>>>>>>> 7ef55fbcca6ed2cfe17b2983e07eb9fa3c4e49b5
   "outputs": [
    {
     "name": "stdout",
     "output_type": "stream",
     "text": [
<<<<<<< HEAD
      "Epoch 1/10\n",
      "42000/42000 [==============================] - 1877s 45ms/step - loss: 0.2157 - accuracy: 0.9390\n",
      "Epoch 2/10\n",
      "    2/42000 [..............................] - ETA: 1:08:03 - loss: 0.2366 - accuracy: 0.9316"
=======
      "Epoch 1/1\n",
      "37800/37800 [==============================] - 5663s 150ms/step - loss: 0.0639 - accuracy: 0.9909 - val_loss: 0.3748 - val_accuracy: 0.9857\n"
>>>>>>> 7ef55fbcca6ed2cfe17b2983e07eb9fa3c4e49b5
     ]
    },
    {
     "name": "stderr",
     "output_type": "stream",
     "text": [
<<<<<<< HEAD
      "c:\\users\\wonhee\\anaconda3\\envs\\tensorgpu211\\lib\\site-packages\\keras\\callbacks\\callbacks.py:1042: RuntimeWarning: Reduce LR on plateau conditioned on metric `val_acc` which is not available. Available metrics are: loss,accuracy,lr\n",
      "  (self.monitor, ','.join(list(logs.keys()))), RuntimeWarning\n"
     ]
    },
    {
     "name": "stdout",
     "output_type": "stream",
     "text": [
      "42000/42000 [==============================] - 1560s 37ms/step - loss: 0.1965 - accuracy: 0.9445\n",
      "Epoch 3/10\n",
      "42000/42000 [==============================] - 1501s 36ms/step - loss: 0.1922 - accuracy: 0.9457\n",
      "Epoch 4/10\n",
      "42000/42000 [==============================] - 1450s 35ms/step - loss: 0.1898 - accuracy: 0.9464\n",
      "Epoch 5/10\n",
      "42000/42000 [==============================] - 1485s 35ms/step - loss: 0.1884 - accuracy: 0.9467\n",
      "Epoch 6/10\n",
      "42000/42000 [==============================] - 1513s 36ms/step - loss: 0.1873 - accuracy: 0.9471\n",
      "Epoch 7/10\n",
      "42000/42000 [==============================] - 1529s 36ms/step - loss: 0.1868 - accuracy: 0.9474\n",
      "Epoch 8/10\n",
      "42000/42000 [==============================] - 1523s 36ms/step - loss: 0.1862 - accuracy: 0.9475\n",
      "Epoch 9/10\n",
      "42000/42000 [==============================] - 1535s 37ms/step - loss: 0.1857 - accuracy: 0.9477\n",
      "Epoch 10/10\n",
      "42000/42000 [==============================] - 1524s 36ms/step - loss: 0.1853 - accuracy: 0.9478\n"
     ]
    }
   ],
   "source": [
    "get = ImageDataGenerator(rotation_range=8, width_shift_range=0.08, shear_range=0.3, height_shift_range=0.08, zoom_range=0.08)\n",
    "batches = gen.flow(X, y, batch_size=256)\n",
    "history=model.fit_generator(generator=batches, steps_per_epoch=batches.n, epochs=10, callbacks=[learning_rate_reduction])"
=======
      "/Users/wonhee/anaconda3/envs/neuralnetwork/lib/python3.7/site-packages/keras/callbacks/callbacks.py:1042: RuntimeWarning: Reduce LR on plateau conditioned on metric `val_acc` which is not available. Available metrics are: val_loss,val_accuracy,loss,accuracy,lr\n",
      "  (self.monitor, ','.join(list(logs.keys()))), RuntimeWarning\n"
     ]
    }
   ],
   "source": [
    "history = cnn_model.fit_generator(generator=batches, steps_per_epoch = batches.n, epochs = epochs, validation_data = val_batches, validation_steps=val_batches.n, callbacks = [learning_rate_reduction])"
   ]
  },
  {
   "cell_type": "code",
   "execution_count": 29,
   "metadata": {},
   "outputs": [
    {
     "data": {
      "text/plain": [
       "dict_keys(['val_loss', 'val_accuracy', 'loss', 'accuracy', 'lr'])"
      ]
     },
     "execution_count": 29,
     "metadata": {},
     "output_type": "execute_result"
    }
   ],
   "source": [
    "model_cnn_history = history.history\n",
    "model_cnn_history.keys()"
   ]
  },
  {
   "cell_type": "code",
   "execution_count": 31,
   "metadata": {},
   "outputs": [
    {
     "data": {
      "text/plain": [
       "Text(0, 0.5, 'Losses')"
      ]
     },
     "execution_count": 31,
     "metadata": {},
     "output_type": "execute_result"
    },
    {
     "data": {
      "image/png": "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\n",
      "text/plain": [
       "<Figure size 432x288 with 1 Axes>"
      ]
     },
     "metadata": {},
     "output_type": "display_data"
    }
   ],
   "source": [
    "losses = model_cnn_history['loss']\n",
    "val_losses = model_cnn_history['val_loss']\n",
    "epoches = range(1, len(val_losses)+1)\n",
    "\n",
    "plt.plot(epoches, losses, 'bo')\n",
    "plt.plot(epoches, val_losses, 'b+')\n",
    "plt.xlabel('Epoches')\n",
    "plt.ylabel('Losses')"
   ]
  },
  {
   "cell_type": "code",
   "execution_count": 33,
   "metadata": {},
   "outputs": [],
   "source": [
    "cnn_model.save('CNN 2x2 Layer .h5')"
   ]
  },
  {
   "cell_type": "code",
   "execution_count": 34,
   "metadata": {},
   "outputs": [
    {
     "data": {
      "text/plain": [
       "Text(0, 0.5, 'Losses')"
      ]
     },
     "execution_count": 34,
     "metadata": {},
     "output_type": "execute_result"
    },
    {
     "data": {
      "image/png": "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\n",
      "text/plain": [
       "<Figure size 432x288 with 1 Axes>"
      ]
     },
     "metadata": {},
     "output_type": "display_data"
    }
   ],
   "source": [
    "losses = model_cnn_history['accuracy']\n",
    "val_losses = model_cnn_history['val_accuracy']\n",
    "epoches = range(1, len(val_losses)+1)\n",
    "\n",
    "plt.plot(epoches, losses, 'bo')\n",
    "plt.plot(epoches, val_losses, 'b+')\n",
    "plt.xlabel('Epoches')\n",
    "plt.ylabel('Losses')"
>>>>>>> 7ef55fbcca6ed2cfe17b2983e07eb9fa3c4e49b5
   ]
  },
  {
   "cell_type": "code",
   "execution_count": null,
   "metadata": {},
   "outputs": [],
   "source": []
  }
 ],
 "metadata": {
  "kernelspec": {
   "display_name": "Python 3",
   "language": "python",
   "name": "python3"
  },
  "language_info": {
   "codemirror_mode": {
    "name": "ipython",
    "version": 3
   },
   "file_extension": ".py",
   "mimetype": "text/x-python",
   "name": "python",
   "nbconvert_exporter": "python",
   "pygments_lexer": "ipython3",
<<<<<<< HEAD
   "version": "3.6.7"
=======
   "version": "3.7.6"
>>>>>>> 7ef55fbcca6ed2cfe17b2983e07eb9fa3c4e49b5
  }
 },
 "nbformat": 4,
 "nbformat_minor": 2
}
